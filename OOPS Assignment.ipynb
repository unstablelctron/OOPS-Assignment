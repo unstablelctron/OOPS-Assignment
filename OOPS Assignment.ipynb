{
 "cells": [
  {
   "cell_type": "markdown",
   "id": "7e9e1cd8-ca62-4798-b3c9-6329e9375438",
   "metadata": {},
   "source": [
    "<h1 style=\"font-size:32px;\">Theory Questions:OOPS</h1>"
   ]
  },
  {
   "cell_type": "markdown",
   "id": "10981e88-48d2-4aab-acb4-05a4227da12e",
   "metadata": {},
   "source": [
    "<h2 style=\"font-size:28px;\">1. What is Object-Oriented Programming (OOP)?</h2>"
   ]
  },
  {
   "cell_type": "markdown",
   "id": "d88fae3b-1cf6-49e0-b387-46200424ee44",
   "metadata": {},
   "source": [
    "* Object-Oriented Programming (OOP) is a programming paradigm based on the concept of \"objects,\" which can contain data and methods.\n",
    "\n",
    "* OOP helps organize code, promotes reuse through inheritance, and enables modularity and abstraction."
   ]
  },
  {
   "cell_type": "markdown",
   "id": "13695b7a-1162-4544-a88c-a7646f1dbc2e",
   "metadata": {},
   "source": [
    "<h2 style=\"font-size:28px;\">2. What is a class in OOP?</h2>"
   ]
  },
  {
   "cell_type": "markdown",
   "id": "f7962e0f-5f1e-42f9-8a51-66ae6d14a1a4",
   "metadata": {},
   "source": [
    "* A class in Object-Oriented Programming (OOP) is a blueprint or template for creating objects.\n",
    "\n",
    "* It defines the attributes (variables) and methods (functions) that describe and define the behavior of the objects."
   ]
  },
  {
   "cell_type": "markdown",
   "id": "82bd587a-2dea-42c4-b258-a2cc0966c054",
   "metadata": {},
   "source": [
    "<h2 style=\"font-size:28px;\">3. What is an object in OOP?</h2>"
   ]
  },
  {
   "cell_type": "markdown",
   "id": "0c913f51-d9b1-45b1-ac01-6b78836c6fbe",
   "metadata": {},
   "source": [
    "* An object in Object-Oriented Programming (OOP) is an instance of a class.\n",
    "\n",
    "* It is a real-world entity that contains data (attributes) and behaviors (methods) defined by its class."
   ]
  },
  {
   "cell_type": "markdown",
   "id": "276ba913-e2fa-4e67-97e3-da705dff4bc2",
   "metadata": {},
   "source": [
    "<h2 style=\"font-size:28px;\">4. What is the difference between abstraction and encapsulation?</h2>"
   ]
  },
  {
   "cell_type": "markdown",
   "id": "ef4427f2-bd33-436c-a20d-256f2292843e",
   "metadata": {},
   "source": [
    "| Feature            | **Abstraction**                                                                    | **Encapsulation**                                                               |\n",
    "| ------------------ | ---------------------------------------------------------------------------------- | ------------------------------------------------------------------------------- |\n",
    "| **Definition**     | Hiding **implementation details** and showing only essential features              | Wrapping **data and methods** into a single unit (class) and restricting access |\n",
    "| **Purpose**        | To **reduce complexity** and focus on what an object does                          | To **protect data** and ensure controlled access                                |\n",
    "| **How it works**   | Through **abstract classes** or **interfaces**                                     | Through **access modifiers** like `private`, `public`                           |\n",
    "| **Example**        | A car's driver uses **steering and pedals** without knowing the internal mechanics | Car's **engine parts** are hidden and accessed only via methods                 |\n",
    "| **Focuses on**     | **Hiding implementation**                                                          | **Hiding internal data**                                                        |\n",
    "| **Achieved using** | Abstract classes, interfaces, method overriding                                    | Classes, getters and setters (accessor/mutator methods)                         |\n"
   ]
  },
  {
   "cell_type": "markdown",
   "id": "3813cb20-41d1-420c-b313-542b4602e3b5",
   "metadata": {},
   "source": [
    "<h2 style=\"font-size:28px;\">5. What are dunder methods in Python?</h2>"
   ]
  },
  {
   "cell_type": "markdown",
   "id": "7fc01882-2666-404d-a0dc-87c805dec392",
   "metadata": {},
   "source": [
    "* Dunder methods (short for “double underscore”) are special methods in Python that have double underscores at the beginning and end of their names, like __init__, __str__, __len__, etc.\n",
    "\n",
    "They are also known as:\n",
    "\n",
    "* Magic methods\n",
    "\n",
    "* Special methods\n",
    "\n",
    "* Dunder methods allow you to customize the behavior of your objects with respect to built-in functions and operators."
   ]
  },
  {
   "cell_type": "markdown",
   "id": "d50bdd1f-af82-47af-8ee8-5a9d5b0a74c0",
   "metadata": {},
   "source": [
    "<h2 style=\"font-size:28px;\">6. Explain the concept of inheritance in OOP.</h2>"
   ]
  },
  {
   "cell_type": "markdown",
   "id": "0ef241b2-f327-4ab8-8896-3042fa3e2d30",
   "metadata": {},
   "source": [
    "* Inheritance allows a class (child/derived) to inherit properties and behavior (methods) from another class (parent/base).\n",
    "\n",
    "* It promotes code reuse and creates a hierarchical class structure."
   ]
  },
  {
   "cell_type": "markdown",
   "id": "be41f592-bf04-4784-8d58-723da561a8c7",
   "metadata": {},
   "source": [
    "<h2 style=\"font-size:28px;\">7. What is polymorphism in OOP?</h2>"
   ]
  },
  {
   "cell_type": "markdown",
   "id": "3adec4a3-b6b8-472f-86e8-5fd595de1acd",
   "metadata": {},
   "source": [
    "* Polymorphism means “many forms”. In Object-Oriented Programming (OOP), polymorphism allows objects of different classes to be treated as objects of a common superclass, while behaving differently based on their class."
   ]
  },
  {
   "cell_type": "markdown",
   "id": "155bdb85-34c0-4c45-9da5-97589f4a0bed",
   "metadata": {},
   "source": [
    "<h2 style=\"font-size:28px;\">8. How is encapsulation achieved in Python?</h2>"
   ]
  },
  {
   "cell_type": "markdown",
   "id": "bc15dc47-4aad-4276-b207-6503753ea562",
   "metadata": {},
   "source": [
    "* Encapsulation is achieved in Python by restricting direct access to data and allowing it through methods. This protects the internal state of an object and maintains control over how the data is accessed or modified."
   ]
  },
  {
   "cell_type": "markdown",
   "id": "ea0e3d98-8fb6-4249-8cd2-01220f4268b7",
   "metadata": {},
   "source": [
    "<h2 style=\"font-size:28px;\">9. What is a constructor in Python?</h2>"
   ]
  },
  {
   "cell_type": "markdown",
   "id": "8f6a4da9-8da6-406b-9a2a-830c975484b4",
   "metadata": {},
   "source": [
    "* A constructor in Python is a special method used to initialize objects when they are created. It automatically gets called when an object of a class is instantiated."
   ]
  },
  {
   "cell_type": "markdown",
   "id": "539777da-81a4-45d8-babc-3bde029536e7",
   "metadata": {},
   "source": [
    "<h2 style=\"font-size:28px;\">10. What are class and static methods in Python?</h2>"
   ]
  },
  {
   "cell_type": "markdown",
   "id": "7d58ea73-e531-449f-90c6-2b782b5c2995",
   "metadata": {},
   "source": [
    "* Class methods use @classmethod and take cls as the first parameter. They can access or modify class state.\n",
    "\n",
    "* Static methods use @staticmethod and do not access class or instance-specific data"
   ]
  },
  {
   "cell_type": "markdown",
   "id": "b399adab-4602-4111-9635-4d13a66f69c2",
   "metadata": {},
   "source": [
    "<h2 style=\"font-size:28px;\">11. What is method overloading in Python?</h2>"
   ]
  },
  {
   "cell_type": "markdown",
   "id": "e333efaa-f6c5-4b0f-81b1-99aa2d39fd9d",
   "metadata": {},
   "source": [
    "* Method overloading is a feature where multiple methods have the same name but different parameters.\n",
    "\n",
    "* In many programming languages like Java or C++, this is directly supported. However, Python does not support true method overloading in the traditional sense."
   ]
  },
  {
   "cell_type": "markdown",
   "id": "fe7e8e8f-56a2-44c0-8c33-4aee0145a6b7",
   "metadata": {},
   "source": [
    "<h2 style=\"font-size:28px;\">12. What is method overriding in OOP?</h2>"
   ]
  },
  {
   "cell_type": "markdown",
   "id": "3ed489b9-fc57-4eee-9298-c0a8411f72c4",
   "metadata": {},
   "source": [
    "* Method overriding is a feature in Object-Oriented Programming (OOP) that allows a subclass to provide a specific implementation of a method that is already defined in its parent class."
   ]
  },
  {
   "cell_type": "markdown",
   "id": "ecaf333c-8e91-48c2-866a-e8f850320a4d",
   "metadata": {},
   "source": [
    "<h2 style=\"font-size:28px;\">13. What is a property decorator in Python?</h2>"
   ]
  },
  {
   "cell_type": "markdown",
   "id": "b2391a46-af59-44e7-b2c9-c0af640199f1",
   "metadata": {},
   "source": [
    "* The @property decorator in Python is used to define getter methods in a Pythonic way, allowing you to access methods like attributes without explicitly calling them.\n",
    "\n",
    "* It is part of encapsulation, used to control access to private attributes."
   ]
  },
  {
   "cell_type": "markdown",
   "id": "ea39dcdc-c777-49ed-97d7-ee06c5447e46",
   "metadata": {},
   "source": [
    "<h2 style=\"font-size:28px;\">14. Why is polymorphism important in OOP?</h2>"
   ]
  },
  {
   "cell_type": "markdown",
   "id": "5daa336a-7ec3-4efb-a29b-a0bac23459fb",
   "metadata": {},
   "source": [
    "* Polymorphism is important in Object-Oriented Programming (OOP) because it allows objects of different classes to be treated uniformly, while still behaving according to their specific class implementation."
   ]
  },
  {
   "cell_type": "markdown",
   "id": "db275fdd-a819-4616-9e67-40635703f800",
   "metadata": {},
   "source": [
    "<h2 style=\"font-size:28px;\">15. What is an abstract class in Python?</h2>"
   ]
  },
  {
   "cell_type": "markdown",
   "id": "c975affc-3ba1-42a5-9c74-f6dca8185697",
   "metadata": {},
   "source": [
    "* An abstract class in Python is a class that cannot be instantiated directly and is meant to be inherited by other classes. It may contain abstract methods (methods with no implementation) that must be implemented by its subclasses."
   ]
  },
  {
   "cell_type": "markdown",
   "id": "a8206205-022c-4d36-9ff9-42ee786ac792",
   "metadata": {},
   "source": [
    "<h2 style=\"font-size:28px;\">16. What are the advantages of OOP?</h2>"
   ]
  },
  {
   "cell_type": "markdown",
   "id": "75f4b0ce-924f-483c-aea2-2ed726451709",
   "metadata": {},
   "source": [
    "* Promotes code reuse via inheritance.\n",
    "* Improves modularity, organization, and readability.\n",
    "* Encapsulation improves security and prevents accidental changes.\n",
    "* Polymorphism and abstraction enhance flexibility and scalability."
   ]
  },
  {
   "cell_type": "markdown",
   "id": "127be546-6daa-4121-9c17-90ac558646dd",
   "metadata": {},
   "source": [
    "<h2 style=\"font-size:28px;\">17. What is the difference between a class variable and an instance variable?</h2>"
   ]
  },
  {
   "cell_type": "markdown",
   "id": "ba075b3f-65a4-43cd-a575-d5db2ab72095",
   "metadata": {},
   "source": [
    "* Class variables are shared across all instances of a class.\n",
    "* Instance variables are unique to each object and defined within the constructor using self."
   ]
  },
  {
   "cell_type": "markdown",
   "id": "e7bb86ff-a672-404e-8a32-bd17faa386fb",
   "metadata": {},
   "source": [
    "<h2 style=\"font-size:28px;\">18. What is multiple inheritance in Python?</h2>"
   ]
  },
  {
   "cell_type": "markdown",
   "id": "aa7b2fd9-bc4c-4f9f-bab9-6b101190bd40",
   "metadata": {},
   "source": [
    "* Multiple Inheritance is a feature in Python where a class can inherit from more than one parent class. This allows the child class to inherit attributes and methods from multiple base classes."
   ]
  },
  {
   "cell_type": "markdown",
   "id": "031a85a5-322a-47b0-baae-3bd0dfc9a315",
   "metadata": {},
   "source": [
    "<h2 style=\"font-size:28px;\">19. Explain the purpose of __str__ and __repr__ methods in Python.</h2>"
   ]
  },
  {
   "cell_type": "markdown",
   "id": "b3d0291c-d7a7-46f1-9bda-ffb1a781c53e",
   "metadata": {},
   "source": [
    "* __str__ is used for a user-friendly string representation of an object, used by print().\n",
    "  \n",
    "* __repr__ is used for an official string representation, mainly for debugging and logging."
   ]
  },
  {
   "cell_type": "markdown",
   "id": "d0f8e24a-0134-4a53-8bda-47967811551a",
   "metadata": {},
   "source": [
    "<h2 style=\"font-size:28px;\">20. What is the significance of the super() function in Python?</h2>"
   ]
  },
  {
   "cell_type": "markdown",
   "id": "c469ffef-f784-4e65-b478-2484af195c00",
   "metadata": {},
   "source": [
    "* The super() function in Python is used to call methods of a parent/superclass from a child/subclass. It is especially useful in inheritance, where you want to extend or customize behavior from the base class."
   ]
  },
  {
   "cell_type": "markdown",
   "id": "b7ba4f50-d01b-4015-a3a3-6d2a291fa9fc",
   "metadata": {},
   "source": [
    "<h2 style=\"font-size:28px;\">21. What is the significance of the __del__ method in Python?</h2>"
   ]
  },
  {
   "cell_type": "markdown",
   "id": "32d8dd66-c88e-4998-86e5-83c826893f7e",
   "metadata": {},
   "source": [
    "* The __del__ method in Python is a special (dunder) method called a destructor. It is automatically invoked when an object is about to be destroyed — i.e., when it is no longer referenced or the program ends."
   ]
  },
  {
   "cell_type": "markdown",
   "id": "89c3e6a0-b8c4-4d56-9acd-97eb3e0719bf",
   "metadata": {},
   "source": [
    "<h2 style=\"font-size:28px;\">22. What is the difference between @staticmethod and @classmethod in Python?</h2>"
   ]
  },
  {
   "cell_type": "markdown",
   "id": "426c5e3d-2fc0-4cb5-b888-7a5f7c5f16b5",
   "metadata": {},
   "source": [
    "* @staticmethod does not take any special first parameter and cannot access class or instance data.\n",
    "* @classmethod takes cls as the first parameter and can access or modify class state"
   ]
  },
  {
   "cell_type": "markdown",
   "id": "fc0ba680-e520-484a-b675-15cd19c3653b",
   "metadata": {},
   "source": [
    "<h2 style=\"font-size:28px;\">23. How does polymorphism work in Python with inheritance?</h2>"
   ]
  },
  {
   "cell_type": "markdown",
   "id": "4154f129-519e-4f3f-95b5-70bd60d35597",
   "metadata": {},
   "source": [
    "* In Python, polymorphism allows child classes to override methods of parent classes.\n",
    "* A single function can operate on objects of different classes as long as they follow a common interface."
   ]
  },
  {
   "cell_type": "markdown",
   "id": "b6e2fa80-0379-4792-ac52-885f4144e79e",
   "metadata": {},
   "source": [
    "<h2 style=\"font-size:28px;\">24. What is method chaining in Python OOP?</h2>"
   ]
  },
  {
   "cell_type": "markdown",
   "id": "d068f6b1-7ee7-4ee1-b44a-e9ede5abfa18",
   "metadata": {},
   "source": [
    "* Method chaining in Python is a programming technique where multiple methods are called sequentially on the same object, using a single line of code.\n",
    "\n",
    "* Each method returns the object itself (usually self) to allow the next method to be called."
   ]
  },
  {
   "cell_type": "markdown",
   "id": "40354d6b-f4da-4a73-9f13-889a2127725c",
   "metadata": {},
   "source": [
    "<h2 style=\"font-size:28px;\">25. What is the purpose of the __call__ method in Python?</h2>"
   ]
  },
  {
   "cell_type": "markdown",
   "id": "ddcfd615-5e2a-4609-a9a0-9cc412a777a1",
   "metadata": {},
   "source": [
    "* The __call__ method allows an object to be called like a function.\n",
    "* It is useful for creating callable objects or function-like classes."
   ]
  },
  {
   "cell_type": "markdown",
   "id": "425b0455-b1c3-4ad0-83fa-d14b23b2af23",
   "metadata": {},
   "source": [
    "<h2 style=\"font-size:28px;\">Practical Questions</h2>"
   ]
  },
  {
   "cell_type": "markdown",
   "id": "b0c63468-ae98-4015-bd4d-3f5293772414",
   "metadata": {},
   "source": [
    "<h2 style=\"font-size:28px;\">1. Create a parent class Animal with a method speak() that prints a generic message. Create a child class Dog\n",
    "that overrides the speak() method to print \"Bark!\".</h2>\n"
   ]
  },
  {
   "cell_type": "code",
   "execution_count": 5,
   "id": "049d2b39-d753-41cf-9b34-0493bd5a8325",
   "metadata": {},
   "outputs": [],
   "source": [
    "class Animal():\n",
    "    def speak(self):\n",
    "        print(\"This is an Animal sound\")\n",
    "class Dog(Animal):\n",
    "    def speak(self):\n",
    "        print(\"Bark\")"
   ]
  },
  {
   "cell_type": "code",
   "execution_count": 8,
   "id": "5943c45e-e203-433a-ae78-dc2fbb5a0eb3",
   "metadata": {},
   "outputs": [],
   "source": [
    "a = Animal()\n",
    "d = Dog()"
   ]
  },
  {
   "cell_type": "code",
   "execution_count": 9,
   "id": "f0c77a15-5d28-4b7f-afaa-6a3466ffe1d3",
   "metadata": {},
   "outputs": [
    {
     "name": "stdout",
     "output_type": "stream",
     "text": [
      "This is an Animal sound\n",
      "Bark\n"
     ]
    }
   ],
   "source": [
    "a.speak()\n",
    "d.speak()"
   ]
  },
  {
   "cell_type": "markdown",
   "id": "073a82d4-12ca-4675-9d12-ff8f500596db",
   "metadata": {},
   "source": [
    "<h2 style=\"font-size:28px;\">2. Write a program to create an abstract class Shape with a method area(). Derive classes Circle and Rectangle\n",
    "from it and implement the area() method in both.</h2>"
   ]
  },
  {
   "cell_type": "code",
   "execution_count": 21,
   "id": "3c127710-3b75-4a2f-95c1-088bf3a85a38",
   "metadata": {},
   "outputs": [],
   "source": [
    "from abc import ABC , abstractmethod\n",
    "import math\n",
    "class Shape(ABC):\n",
    "    @abstractmethod \n",
    "    def area(self):\n",
    "        pass\n",
    "class Circle(Shape):\n",
    "    def __init__(self, radius):\n",
    "        self.radius = radius\n",
    "    def area(self):\n",
    "        return 3.14*self.radius**2\n",
    "class Rectangle(Shape):\n",
    "    def __init__(self,length,width):\n",
    "        self.length = length\n",
    "        self.width = width\n",
    "    def area(self):\n",
    "        return self.length*self.width       "
   ]
  },
  {
   "cell_type": "code",
   "execution_count": 22,
   "id": "c97fc91e-afad-4b00-9b40-ce15764cec76",
   "metadata": {},
   "outputs": [],
   "source": [
    "c = Circle(7)\n",
    "r = Rectangle(11,12)"
   ]
  },
  {
   "cell_type": "code",
   "execution_count": 23,
   "id": "e608b257-89eb-4576-ba30-2601c6f7ea90",
   "metadata": {},
   "outputs": [
    {
     "name": "stdout",
     "output_type": "stream",
     "text": [
      "153.86\n",
      "132\n"
     ]
    }
   ],
   "source": [
    "print(c.area())\n",
    "print(r.area())"
   ]
  },
  {
   "cell_type": "markdown",
   "id": "7f46651d-d97a-4f46-a40a-f9244bc1ccdc",
   "metadata": {},
   "source": [
    "<h2 style=\"font-size:28px;\">3. Implement a multi-level inheritance scenario where a class Vehicle has an attribute type. Derive a class Car\n",
    "and further derive a class ElectricCar that adds a battery attribute.</h2>"
   ]
  },
  {
   "cell_type": "code",
   "execution_count": 26,
   "id": "a56ef9c8-9a9d-476f-8a9a-7bd93851f6fa",
   "metadata": {},
   "outputs": [],
   "source": [
    "# Base class\n",
    "class Vehicle:\n",
    "    def __init__(self, vehicle_type):\n",
    "        self.vehicle_type = vehicle_type\n",
    "\n",
    "    def show_type(self):\n",
    "        print(f\"Vehicle Type: {self.vehicle_type}\")\n",
    "\n",
    "# Derived class\n",
    "class Car(Vehicle):\n",
    "    def __init__(self, vehicle_type, brand):\n",
    "        super().__init__(vehicle_type)  # Call Vehicle constructor\n",
    "        self.brand = brand\n",
    "\n",
    "    def show_brand(self):\n",
    "        print(f\"Car Brand: {self.brand}\")\n",
    "\n",
    "# Further derived class\n",
    "class ElectricCar(Car):\n",
    "    def __init__(self, vehicle_type, brand, battery_capacity):\n",
    "        super().__init__(vehicle_type, brand)  # Call Car constructor\n",
    "        self.battery_capacity = battery_capacity\n",
    "\n",
    "    def show_battery(self):\n",
    "        print(f\"Battery Capacity: {self.battery_capacity} kWh\")\n"
   ]
  },
  {
   "cell_type": "code",
   "execution_count": 27,
   "id": "137ffaa5-9ad8-4153-a242-812f861b718c",
   "metadata": {},
   "outputs": [
    {
     "name": "stdout",
     "output_type": "stream",
     "text": [
      "Vehicle Type: Four Wheeler\n",
      "Car Brand: Tesla\n",
      "Battery Capacity: 75 kWh\n"
     ]
    }
   ],
   "source": [
    "e_car = ElectricCar(\"Four Wheeler\", \"Tesla\", 75)\n",
    "\n",
    "e_car.show_type()      # From Vehicle\n",
    "e_car.show_brand()     # From Car\n",
    "e_car.show_battery()   # From ElectricCar\n"
   ]
  },
  {
   "cell_type": "markdown",
   "id": "a3954f6f-3e39-4da9-b8aa-1d8c7c99b076",
   "metadata": {},
   "source": [
    "<h2 style=\"font-size:28px;\">4. Demonstrate polymorphism by creating a base class Bird with a method fly(). Create two derived classes\n",
    "Sparrow and Penguin that override the fly() method.\n",
    "</h2>"
   ]
  },
  {
   "cell_type": "code",
   "execution_count": 28,
   "id": "255ffcb9-dd31-49f8-ac06-7b1f0bfc2c8a",
   "metadata": {},
   "outputs": [],
   "source": [
    "# Base class\n",
    "class Bird:\n",
    "    def fly(self):\n",
    "        print(\"Some bird is flying\")\n",
    "\n",
    "# Derived class 1\n",
    "class Sparrow(Bird):\n",
    "    def fly(self):\n",
    "        print(\"Sparrow flies high in the sky\")\n",
    "\n",
    "# Derived class 2\n",
    "class Penguin(Bird):\n",
    "    def fly(self):\n",
    "        print(\"Penguins can't fly but they swim very well\")\n"
   ]
  },
  {
   "cell_type": "code",
   "execution_count": 30,
   "id": "37424c8f-9117-4779-817b-cd4b8d7e8e1f",
   "metadata": {},
   "outputs": [
    {
     "name": "stdout",
     "output_type": "stream",
     "text": [
      "Sparrow flies high in the sky\n",
      "Penguins can't fly but they swim very well\n"
     ]
    }
   ],
   "source": [
    "# Function to demonstrate polymorphism\n",
    "def bird_fly_test(bird):\n",
    "    bird.fly()  # Calls the appropriate fly() method based on object type\n",
    "\n",
    "\n",
    "b1 = Sparrow()\n",
    "b2 = Penguin()\n",
    "\n",
    "bird_fly_test(b1)  # Output: Sparrow flies high in the sky\n",
    "bird_fly_test(b2)  # Output: Penguins can't fly but they swim very well\n"
   ]
  },
  {
   "cell_type": "markdown",
   "id": "76576b4e-a197-4401-a501-1d35332b33ee",
   "metadata": {},
   "source": [
    "<h2 style=\"font-size:28px;\">5. Write a program to demonstrate encapsulation by creating a class BankAccount with private attributes\n",
    "balance and methods to deposit, withdraw, and check balance.</h2>"
   ]
  },
  {
   "cell_type": "code",
   "execution_count": 3,
   "id": "ff73d2b7-ad8c-46b8-ab79-397ff379776a",
   "metadata": {},
   "outputs": [],
   "source": [
    "class BankAccount():\n",
    "    def __init__(self):\n",
    "        self.__balance = 1000\n",
    "    def deposit(self,Amount):\n",
    "        self.__balance += Amount\n",
    "    def withdraw(self,Amount):\n",
    "        if Amount <= self.__balance:\n",
    "            self.__balance -= Amount\n",
    "        else:\n",
    "            print(\"Insufficient Balance\")\n",
    "    def get_balance(self):\n",
    "        return self.__balance\n",
    "Bank = BankAccount()"
   ]
  },
  {
   "cell_type": "code",
   "execution_count": 4,
   "id": "751792e5-e73e-476c-ae79-e5b943bcb8a0",
   "metadata": {},
   "outputs": [
    {
     "data": {
      "text/plain": [
       "1500"
      ]
     },
     "execution_count": 4,
     "metadata": {},
     "output_type": "execute_result"
    }
   ],
   "source": [
    "Bank.deposit(1000)\n",
    "Bank.withdraw(500)\n",
    "Bank.get_balance()"
   ]
  },
  {
   "cell_type": "markdown",
   "id": "de47dde6-953b-4f29-9f77-262acf6380e8",
   "metadata": {},
   "source": [
    "<h2 style=\"font-size:28px;\">6. Demonstrate runtime polymorphism using a method play() in a base class Instrument. Derive classes Guitar\n",
    "and Piano that implement their own version of play().</h2>"
   ]
  },
  {
   "cell_type": "code",
   "execution_count": 8,
   "id": "08dd3262-ea8c-4a23-b670-9a73fa8ccc2f",
   "metadata": {},
   "outputs": [
    {
     "name": "stdout",
     "output_type": "stream",
     "text": [
      "This is a Musical Instrument\n",
      "This is a Guitar\n",
      "This is a Piano\n"
     ]
    }
   ],
   "source": [
    "class Instrument():\n",
    "    def play(self):\n",
    "        print(\"This is a Musical Instrument\")\n",
    "class Guitar(Instrument):\n",
    "    def play(self):\n",
    "        print(\"This is a Guitar\")\n",
    "class Piano(Instrument):\n",
    "    def play(self):\n",
    "        print(\"This is a Piano\")\n",
    "I = Instrument()\n",
    "G = Guitar()\n",
    "P = Piano()\n",
    "def perform_play(instrument):\n",
    "    instrument.play()\n",
    "\n",
    "perform_play(I)\n",
    "perform_play(G)\n",
    "perform_play(P)\n"
   ]
  },
  {
   "cell_type": "markdown",
   "id": "6ea3d224-d1b6-455a-9187-b70223087799",
   "metadata": {},
   "source": [
    "<h2 style=\"font-size:28px;\">7. Create a class MathOperations with a class method add_numbers() to add two numbers and a static\n",
    "method subtract_numbers() to subtract two numbers.</h2>"
   ]
  },
  {
   "cell_type": "code",
   "execution_count": 11,
   "id": "5a0bcf64-9b07-4a56-8f63-89e9139621f3",
   "metadata": {},
   "outputs": [
    {
     "name": "stdout",
     "output_type": "stream",
     "text": [
      "Addition: 11\n",
      "Subtraction: 1\n"
     ]
    }
   ],
   "source": [
    "class MathOperations:\n",
    "    @classmethod\n",
    "    def add_numbers(cls,a,b):\n",
    "        return a+b\n",
    "    @staticmethod\n",
    "    def subtract_numbers(a,b):\n",
    "        return a-b\n",
    "Addition_Result = MathOperations.add_numbers(5,6)\n",
    "Subtraction_Result = MathOperations.subtract_numbers(6,5)                    \n",
    "print(\"Addition:\",Addition_Result)\n",
    "print(\"Subtraction:\", Subtraction_Result)   "
   ]
  },
  {
   "cell_type": "markdown",
   "id": "d0c65194-cd18-48e2-b535-776cbe885990",
   "metadata": {},
   "source": [
    "<h2 style=\"font-size:28px;\">8. Implement a class Person with a class method to count the total number of persons created.</h2>"
   ]
  },
  {
   "cell_type": "code",
   "execution_count": 12,
   "id": "884e150a-c47e-4612-8a2c-91244a4ab486",
   "metadata": {},
   "outputs": [
    {
     "name": "stdout",
     "output_type": "stream",
     "text": [
      "Total Persons Created: 3\n"
     ]
    }
   ],
   "source": [
    "class Person:\n",
    "    count = 0  # Class variable to track number of object\n",
    "\n",
    "    def __init__(self, name):\n",
    "        self.name = name\n",
    "        Person.count += 1  # Increment count when new object is created\n",
    "\n",
    "    @classmethod\n",
    "    def total_persons(cls):\n",
    "        return cls.count\n",
    "\n",
    "# Creating Person objects\n",
    "p1 = Person(\"Anand\")\n",
    "p2 = Person(\"Bhavna\")\n",
    "p3 = Person(\"Chetan\")\n",
    "\n",
    "# Calling the class method\n",
    "print(\"Total Persons Created:\", Person.total_persons())  # Output: 3\n"
   ]
  },
  {
   "cell_type": "markdown",
   "id": "35f84ec6-3d89-4e9c-bcb0-28682c2a5a41",
   "metadata": {},
   "source": [
    "<h2 style=\"font-size:28px;\">9. Write a class Fraction with attributes numerator and denominator. Override the str method to display the\n",
    "fraction as \"numerator/denominator\".</h2>"
   ]
  },
  {
   "cell_type": "code",
   "execution_count": 13,
   "id": "72491f82-5e8a-4d8f-94f1-30f0cd440772",
   "metadata": {},
   "outputs": [
    {
     "name": "stdout",
     "output_type": "stream",
     "text": [
      "3/4\n"
     ]
    }
   ],
   "source": [
    "class Fraction:\n",
    "    def __init__(self, numerator, denominator):\n",
    "        self.numerator = numerator\n",
    "        self.denominator = denominator\n",
    "\n",
    "    def __str__(self):\n",
    "        return f\"{self.numerator}/{self.denominator}\"\n",
    "f1 = Fraction(3, 4)\n",
    "print(f1)  "
   ]
  },
  {
   "cell_type": "markdown",
   "id": "632fa8e4-e452-49c8-9e73-3177543ce2eb",
   "metadata": {},
   "source": [
    "<h2 style=\"font-size:28px;\">10. Demonstrate operator overloading by creating a class Vector and overriding the add method to add two\n",
    "vectors.</h2>"
   ]
  },
  {
   "cell_type": "code",
   "execution_count": 14,
   "id": "e704820a-f08a-40a8-aa44-e65876c7a7db",
   "metadata": {},
   "outputs": [
    {
     "name": "stdout",
     "output_type": "stream",
     "text": [
      "v1 + v2 = (6, 8)\n"
     ]
    }
   ],
   "source": [
    "class Vector:\n",
    "    def __init__(self, x, y):\n",
    "        self.x = x\n",
    "        self.y = y\n",
    "\n",
    "    def __add__(self, other):\n",
    "        return Vector(self.x + other.x, self.y + other.y)\n",
    "\n",
    "    def __str__(self):\n",
    "        return f\"({self.x}, {self.y})\"\n",
    "\n",
    "v1 = Vector(2, 3)\n",
    "v2 = Vector(4, 5)\n",
    "v3 = v1 + v2\n",
    "\n",
    "print(\"v1 + v2 =\", v3)\n"
   ]
  },
  {
   "cell_type": "markdown",
   "id": "acf995f4-fee9-42cf-a2e9-f8140a606037",
   "metadata": {},
   "source": [
    "<h2 style=\"font-size:28px;\">11. Create a class Person with attributes name and age. Add a method greet() that prints \"Hello, my name is\n",
    "{name} and I am {age} years old.\"</h2>"
   ]
  },
  {
   "cell_type": "code",
   "execution_count": 17,
   "id": "bd118022-7b58-4f57-adca-f294d4bf2c7a",
   "metadata": {},
   "outputs": [
    {
     "name": "stdout",
     "output_type": "stream",
     "text": [
      "Hello, Myself Anand and my age is 22\n"
     ]
    }
   ],
   "source": [
    "class Person:\n",
    "    def __init__(self , name , age):\n",
    "        self.name = name\n",
    "        self.age = age\n",
    "    def greet(self):\n",
    "        print(f\"Hello, Myself {self.name} and my age is {self.age}\")\n",
    "        \n",
    "p1 = Person(\"Anand\",22)    \n",
    "p1.greet()              "
   ]
  },
  {
   "cell_type": "markdown",
   "id": "15125166-8928-4596-b315-b90a4e4a5d4d",
   "metadata": {},
   "source": [
    "<h2 style=\"font-size:28px;\">12. Implement a class Student with attributes name and grades. Create a method average_grade() to compute\n",
    "the average of the grades.</h2>"
   ]
  },
  {
   "cell_type": "code",
   "execution_count": 18,
   "id": "a3ad4b6f-feb8-4c47-a36e-e3e12adee623",
   "metadata": {},
   "outputs": [
    {
     "name": "stdout",
     "output_type": "stream",
     "text": [
      "Anand's average grade is: 86.25\n"
     ]
    }
   ],
   "source": [
    "class Student:\n",
    "    def __init__(self , name , grades):\n",
    "        self.name = name\n",
    "        self.grades = grades\n",
    "    def average_grade(self):\n",
    "        if len(self.grades) == 0:\n",
    "            return 0 \n",
    "        return sum(self.grades)/len(self.grades) \n",
    "Avg =  Student(\"Anand\", [85, 90, 78, 92])\n",
    "print(f\"{Avg.name}'s average grade is:\", Avg.average_grade())"
   ]
  },
  {
   "cell_type": "markdown",
   "id": "9c6a2fbd-4e63-462d-9754-809f0a338216",
   "metadata": {},
   "source": [
    "<h2 style=\"font-size:28px;\">13. Create a class Rectangle with methods set_dimensions() to set the dimensions and area() to calculate the\n",
    "area.</h2>"
   ]
  },
  {
   "cell_type": "code",
   "execution_count": 24,
   "id": "eb54d72d-4cfb-4033-b5b3-f5badfdedc89",
   "metadata": {},
   "outputs": [
    {
     "name": "stdout",
     "output_type": "stream",
     "text": [
      "Area of Rectangle: 110\n"
     ]
    }
   ],
   "source": [
    "class Rectangle():\n",
    "    def set_dimensions(self,length,width):\n",
    "        self.length = length\n",
    "        self.width = width\n",
    "    def area(self):\n",
    "        return self.length*self.width\n",
    "R = Rectangle()\n",
    "R.set_dimensions(10, 11)\n",
    "print(\"Area of Rectangle:\", R.area())"
   ]
  },
  {
   "cell_type": "markdown",
   "id": "301a211c-eb8a-499a-a698-bee38eb7b76d",
   "metadata": {},
   "source": [
    "<h2 style=\"font-size:28px;\">14. Create a class Employee with a method calculate_salary() that computes the salary based on hours worked\n",
    "and hourly rate. Create a derived class Manager that adds a bonus to the salary.</h2>"
   ]
  },
  {
   "cell_type": "code",
   "execution_count": 26,
   "id": "c23f5a6b-1fd5-40cc-acad-2d4daddf3c5b",
   "metadata": {},
   "outputs": [
    {
     "name": "stdout",
     "output_type": "stream",
     "text": [
      "Rahul's Salary: 8000\n",
      "Anjali's Salary: 18500\n"
     ]
    }
   ],
   "source": [
    "class Employee():\n",
    "    def __init__(self,name,hours_worked,hourly_rate):\n",
    "        self.name = name\n",
    "        self.hours_worked = hours_worked\n",
    "        self.hourly_rate = hourly_rate\n",
    "    def calculate_salary(self):\n",
    "        return self.hours_worked * self.hourly_rate\n",
    "class Manager(Employee):\n",
    "    def __init__(self, name, hours_worked, hourly_rate, bonus):\n",
    "        super().__init__(name, hours_worked, hourly_rate)\n",
    "        self.bonus = bonus\n",
    "\n",
    "    def calculate_salary(self):\n",
    "        base_salary = super().calculate_salary()\n",
    "        return base_salary + self.bonus\n",
    "emp = Employee(\"Rahul\", 40, 200)\n",
    "mgr = Manager(\"Anjali\", 45, 300, 5000)\n",
    "print(f\"{emp.name}'s Salary:\", emp.calculate_salary())\n",
    "print(f\"{mgr.name}'s Salary:\", mgr.calculate_salary())"
   ]
  },
  {
   "cell_type": "markdown",
   "id": "8ca30e29-6db5-49d3-b531-613d3b41bc0d",
   "metadata": {},
   "source": [
    "<h2 style=\"font-size:28px;\">15. Create a class Product with attributes name, price, and quantity. Implement a method total_price() that\n",
    "calculates the total price of the product.</h2>"
   ]
  },
  {
   "cell_type": "code",
   "execution_count": 29,
   "id": "ca01a012-e28f-41ca-bf62-2348f42a1924",
   "metadata": {},
   "outputs": [
    {
     "name": "stdout",
     "output_type": "stream",
     "text": [
      "Total price for Laptops: 100000\n"
     ]
    }
   ],
   "source": [
    "class Product():\n",
    "    def __init__(self,name,price,quantity):\n",
    "        self.name = name\n",
    "        self.price = price\n",
    "        self.quantity = quantity\n",
    "    def total_price(self):\n",
    "        return self.price*self.quantity\n",
    "P = Product(\"Laptops\", 50000, 2)\n",
    "print(f\"Total price for {P.name}:\", P.total_price())"
   ]
  },
  {
   "cell_type": "markdown",
   "id": "4a8ef43e-6b7a-4c43-815f-c753b46e586d",
   "metadata": {},
   "source": [
    "<h2 style=\"font-size:28px;\">16. Create a class Animal with an abstract method sound(). Create two derived classes Cow and Sheep that\n",
    "implement the sound() method.</h2>"
   ]
  },
  {
   "cell_type": "code",
   "execution_count": 30,
   "id": "d54d7a51-2028-4798-bc05-b9a04fa2e2f3",
   "metadata": {},
   "outputs": [
    {
     "name": "stdout",
     "output_type": "stream",
     "text": [
      "Cow says MOO\n",
      "Sheep says Baa\n"
     ]
    }
   ],
   "source": [
    "from abc import ABC , abstractmethod\n",
    "class Animal(ABC):\n",
    "    @abstractmethod\n",
    "    def sound(self):\n",
    "        pass\n",
    "class Cow(Animal):\n",
    "    def sound(self):\n",
    "        print(\"Cow says MOO\")\n",
    "class Sheep(Animal):\n",
    "    def sound(self):\n",
    "        print(\"Sheep says Baa\")\n",
    "c = Cow()\n",
    "s = Sheep()\n",
    "c.sound()\n",
    "s.sound()"
   ]
  },
  {
   "cell_type": "markdown",
   "id": "a10f1399-f7db-4829-974b-cd885e5288f5",
   "metadata": {},
   "source": [
    "<h2 style=\"font-size:28px;\">17. Create a class Book with attributes title, author, and year_published. Add a method get_book_info() that\n",
    "returns a formatted string with the book's details.</h2>"
   ]
  },
  {
   "cell_type": "code",
   "execution_count": 35,
   "id": "cd945f1e-fca1-4f2f-bddb-199dd131c9f7",
   "metadata": {},
   "outputs": [
    {
     "name": "stdout",
     "output_type": "stream",
     "text": [
      "The title of Book is Wings of Fire and author of book is A.P.J. Abdul Kalam published in 1999\n"
     ]
    }
   ],
   "source": [
    "class Book():\n",
    "    def __init__(self,title,author,year_published):\n",
    "        self.title = title\n",
    "        self.author = author\n",
    "        self.year_published = year_published\n",
    "    def get_book_info(self):\n",
    "        print(f\"The title of Book is {self.title} and author of book is {self.author} published in {self.year_published}\")\n",
    "B = Book(\"Wings of Fire\", \"A.P.J. Abdul Kalam\", 1999)   \n",
    "B.get_book_info()"
   ]
  },
  {
   "cell_type": "markdown",
   "id": "778815bb-255c-4de6-8692-a31d35ac0b1b",
   "metadata": {},
   "source": [
    "<h2 style=\"font-size:28px;\">18. Create a class House with attributes address and price. Create a derived class Mansion that adds an\n",
    "attribute number_of_rooms.</h2>"
   ]
  },
  {
   "cell_type": "code",
   "execution_count": 36,
   "id": "0b946ec9-ec78-47c8-96d3-f23c002a1fb6",
   "metadata": {},
   "outputs": [
    {
     "name": "stdout",
     "output_type": "stream",
     "text": [
      "Address: Beverly Hills, LA\n",
      "Price: ₹100000000\n",
      "Number of Rooms: 15\n"
     ]
    }
   ],
   "source": [
    "class House:\n",
    "    def __init__(self, address, price):\n",
    "        self.address = address\n",
    "        self.price = price\n",
    "\n",
    "class Mansion(House):\n",
    "    def __init__(self, address, price, number_of_rooms):\n",
    "        super().__init__(address, price)\n",
    "        self.number_of_rooms = number_of_rooms\n",
    "\n",
    "    def show_details(self):\n",
    "        print(f\"Address: {self.address}\")\n",
    "        print(f\"Price: ₹{self.price}\")\n",
    "        print(f\"Number of Rooms: {self.number_of_rooms}\")\n",
    "m1 = Mansion(\"Beverly Hills, LA\", 100000000, 15)\n",
    "m1.show_details()"
   ]
  }
 ],
 "metadata": {
  "kernelspec": {
   "display_name": "Python [conda env:base] *",
   "language": "python",
   "name": "conda-base-py"
  },
  "language_info": {
   "codemirror_mode": {
    "name": "ipython",
    "version": 3
   },
   "file_extension": ".py",
   "mimetype": "text/x-python",
   "name": "python",
   "nbconvert_exporter": "python",
   "pygments_lexer": "ipython3",
   "version": "3.12.7"
  }
 },
 "nbformat": 4,
 "nbformat_minor": 5
}
